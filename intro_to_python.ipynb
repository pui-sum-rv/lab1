{
 "cells": [
  {
   "cell_type": "markdown",
   "metadata": {},
   "source": [
    "<a href=\"https://colab.research.google.com/github/pui-sum-lv/lab1/blob/main/intro_to_python.ipynb\" target=\"_parent\"><img src=\"https://colab.research.google.com/assets/colab-badge.svg\" alt=\"Open In Colab\"/></a>\n",
    "\n",
    "# Introduction to Programming in Python\n",
    "\n",
    "Additional literature\n",
    "\n",
    "An excellent tutorial for getting started with Python can be found at official pages."
   ]
  },
  {
   "cell_type": "markdown",
   "metadata": {},
   "source": [
    "## Python Basics\n",
    "\n",
    "Python is a very powerful and popular programming language. It was created back in 1990, and its popularity continues to grow. Python is an interpreted language, which means it runs without the need for compilation. Additionally, Python features automatic memory allocation, similar to languages like Ruby and Smalltalk.\n",
    "\n",
    "Python allows writing scripts into files that execute the entire script at once, but it also enables writing code directly in the Python interpreter line by line, executing the code immediately. This mode is convenient for testing and verifying language functionality, as it provides direct language feedback. This mode of operation is similar to executing MATLAB commands line by line.\n",
    "\n",
    "### Starting the interpreter\n",
    "\n",
    "We can start the Python interpreter by entering the command"
   ]
  },
  {
   "cell_type": "code",
   "execution_count": null,
   "metadata": {
    "vscode": {
     "languageId": "plaintext"
    }
   },
   "outputs": [],
   "source": [
    "python3"
   ]
  },
  {
   "cell_type": "markdown",
   "metadata": {},
   "source": [
    "in command window. A text similar to this appears:\n",
    "\n",
    "Python 3.6.9 (default, Oct  8 2020, 12:12:24) \n",
    "[GCC 8.4.0] on linux\n",
    "Type \"help\", \"copyright\", \"credits\" or \"license\" for more information.\n",
    ">>>"
   ]
  },
  {
   "cell_type": "markdown",
   "metadata": {},
   "source": [
    "These three characters \">>>\" indicate where we will write the command in the interpreter. In this document, the commands we enter into the interpreter will also be written in a text box, but they will have characters \">>>\" in front of them."
   ]
  }
 ],
 "metadata": {
  "kernelspec": {
   "display_name": "pt2",
   "language": "python",
   "name": "python3"
  },
  "language_info": {
   "codemirror_mode": {
    "name": "ipython",
    "version": 3
   },
   "file_extension": ".py",
   "mimetype": "text/x-python",
   "name": "python",
   "nbconvert_exporter": "python",
   "pygments_lexer": "ipython3",
   "version": "3.9.17"
  }
 },
 "nbformat": 4,
 "nbformat_minor": 2
}
