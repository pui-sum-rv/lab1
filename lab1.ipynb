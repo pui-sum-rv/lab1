{
  "cells": [
    {
      "cell_type": "markdown",
      "metadata": {
        "colab_type": "text",
        "id": "view-in-github"
      },
      "source": [
        "<a href=\"https://colab.research.google.com/github/pui-sum-rv/lab1/blob/main/lab1.ipynb\" target=\"_parent\"><img src=\"https://colab.research.google.com/assets/colab-badge.svg\" alt=\"Open In Colab\"/></a>"
      ]
    },
    {
      "cell_type": "markdown",
      "metadata": {
        "id": "e8vtuqXEBP1j"
      },
      "source": [
        "# Lab 1 - Python, Google Colab, Image Manipulation\n",
        "\n",
        "These laboratory excersises are solved on Google Colab and are save on GitHub repo that is connected to GitHub Classroom.\n",
        "\n",
        "## Tools You need to use to Submit Assignments \n",
        "\n",
        "In this document, you will solve tasks. This is a **Jupyter Notebook** which has the **.ipynb** extension, is an interactive web environment for data analysis, visualization, solution presentations, education, and more. \n",
        "\n",
        "**Google Colab** is a tool that allows you to run and share Jupyter Notebook files on Google's servers, including the use of Google's CPU, GPU, and TPU resources. Colab is like Google Docs for Jupyter Notebooks. **Google Colab does not automatically save your assignment to GitHub.**\n",
        "\n",
        "**You use GitHub to save and submit your assignments.** When you accept the assignment through GitHub Classroom, a repository is automatically created on your GitHub account with a copy of the task. This is where you will save your solutions. Saving your solutions submits the tasks for that lab.\n",
        "\n",
        "## How to Solve the Tasks? \n",
        "\n",
        "1. Accept the task via the Google Classroom link that you will receive. Google Classroom will create a repository on your account.\n",
        "2. Go to the newly created repository on your account and click on the .ipynb file, then click Open in Colab.\n",
        "3. You will solve the tasks in Google Colab.\n",
        "\n",
        "## How to Save (Submit) Tasks? \n",
        "\n",
        "1. In Google Colab, click on the Open settings gear icon in the top-right corner.\n",
        "2. Click on the GitHub tab and check the box for Access private repositories and organizations.\n",
        "3. A new window will open for you to grant access to GitHub. For ferit-osirv, click Grant.\n",
        "4. Save and exit the settings.\n",
        "5. Click on File > Save a copy in GitHub.\n",
        "6. Select the lab repository that includes your name.\n",
        "\n",
        "**Note: You only need to complete steps 1-4 the first time.**\n",
        "\n",
        "7. Click on **File > Save a copy in GitHub**.\n",
        "8. Select created repository **that has your name in it**.\n",
        "\n",
        "> *Note:* You need to do steps 1-4 just the first time. "
      ]
    },
    {
      "cell_type": "markdown",
      "metadata": {
        "id": "tlt9F0--QgIC"
      },
      "source": [
        "# Introduction to Jupyter Notebook\n",
        "\n",
        "A Jupyter Notebook consists of two types of cells: text and code. You are currently reading a text cell, which can contain text, markdown, or HTML. It is useful for adding more information about your code, allowing the notebook to be read as a narrative, which is where the name Jupyter Notebook comes from.\n",
        "\n",
        "Code cells contain Python code or command-line commands."
      ]
    },
    {
      "cell_type": "code",
      "execution_count": null,
      "metadata": {
        "colab": {
          "base_uri": "https://localhost:8080/",
          "height": 37
        },
        "id": "GjI2lX1EPUqK",
        "outputId": "805dd757-013b-4ed3-c0dc-a2cebb501066"
      },
      "outputs": [
        {
          "data": {
            "application/vnd.google.colaboratory.intrinsic+json": {
              "type": "string"
            },
            "text/plain": [
              "'Vaš kod pišete u kodne blokove kao što je ovaj'"
            ]
          },
          "execution_count": 12,
          "metadata": {},
          "output_type": "execute_result"
        }
      ],
      "source": [
        "text = \"You write your code in code block like this one\"\n",
        "# These code cells will always display the result of the last line of code below the cell.\n",
        "text"
      ]
    },
    {
      "cell_type": "markdown",
      "metadata": {
        "id": "bZe57cDBRCE7"
      },
      "source": [
        "You can execute code cells by selecting them with your mouse and pressing the play button in the upper left corner of the cell. You can also run the cell and move to the next one with the shortcut **Shift+Enter**. **Control+Enter** will execute the current cell and keep it selected.\n",
        "\n",
        "The output of code cells appears below the cell. It can include outputs from `print` statements, as well as graphs and images generated using libraries like OpenCV or matplotlib.\n",
        "\n",
        "Additionally, the result of the last line of code is always displayed at the end of the output.\n",
        "\n",
        "Feel free to experiment with the code cells and modify this notebook however you like!\n",
        "\n",
        "**For more tips**, check out the following notebook: [https://colab.research.google.com/notebooks/basic_features_overview.ipynb](https://colab.research.google.com/notebooks/basic_features_overview.ipynb)"
      ]
    },
    {
      "cell_type": "markdown",
      "metadata": {
        "id": "o5DM9UScViXU"
      },
      "source": [
        "## Order of Execution\n",
        "\n",
        "It's important to remember that cells are executed in the order in which you run them. For example, take a look at the following 3 cells:"
      ]
    },
    {
      "cell_type": "code",
      "execution_count": 1,
      "metadata": {
        "id": "fYQ36HP5VwOX"
      },
      "outputs": [],
      "source": [
        "a = 3 # Block 1"
      ]
    },
    {
      "cell_type": "code",
      "execution_count": null,
      "metadata": {
        "id": "EhVqiFS2VxDp"
      },
      "outputs": [],
      "source": [
        "a = 2 # Block 2"
      ]
    },
    {
      "cell_type": "code",
      "execution_count": null,
      "metadata": {
        "colab": {
          "base_uri": "https://localhost:8080/"
        },
        "id": "tPhu-8R5VxpF",
        "outputId": "8203f75e-148c-4372-e2c6-342eada0692c"
      },
      "outputs": [
        {
          "data": {
            "text/plain": [
              "2"
            ]
          },
          "execution_count": 15,
          "metadata": {},
          "output_type": "execute_result"
        }
      ],
      "source": [
        "a # Block 3"
      ]
    },
    {
      "cell_type": "markdown",
      "metadata": {
        "id": "hmBrMmukV1aG"
      },
      "source": [
        "Try running cell 2 first, then cell 1, and finally cell 3. You will notice that the output of cell 3 changes because cell 1 was executed and a was assigned a new value. This behavior can lead to bugs in your code. Therefore, it is good practice to periodically, and especially before submission, run all cells in order again. You can do this by clicking ***Runtime > Run** all or pressing **F9**."
      ]
    },
    {
      "cell_type": "markdown",
      "metadata": {
        "id": "8pVjDTjqWayF"
      },
      "source": [
        "## Importing libraries\n",
        "\n",
        "For completing lab exercises, you'll need various libraries such as numpy, OpenCV, matplotlib, etc. It's good practice to have a **separate cell** for importing all the required libraries **at the beginning** of the notebook. Example:"
      ]
    },
    {
      "cell_type": "code",
      "execution_count": null,
      "metadata": {
        "id": "EXS_YJC2WsWD"
      },
      "outputs": [],
      "source": [
        "import numpy as np\n",
        "import cv2 as cv\n",
        "import matplotlib.pyplot as plot"
      ]
    },
    {
      "cell_type": "markdown",
      "metadata": {
        "id": "-iB2rlmOWyZb"
      },
      "source": [
        "This way, you ensure that the cell is always executed, and all the necessary libraries are loaded. Additionally, once these libraries are loaded, Google Colab will provide suggestions (auto-complete) as you type, which will significantly ease your work."
      ]
    },
    {
      "cell_type": "markdown",
      "metadata": {
        "id": "feUPz7IDCbDx"
      },
      "source": [
        "## Copying Files from the GitHub Repository\n",
        "\n",
        "For completing the exercises, you will need images and other files that will be stored in the GitHub repository of the exercise. A command like this will be available in the notebook for each exercise. It will copy the files from GitHub to the Google Colab environment.\n",
        "\n",
        "**You need to run this command before starting each exercise.**"
      ]
    },
    {
      "cell_type": "code",
      "execution_count": 1,
      "metadata": {
        "colab": {
          "base_uri": "https://localhost:8080/"
        },
        "id": "QpP_i0KgCefb",
        "outputId": "e08a0979-cb3c-41f4-be61-07957597ae31"
      },
      "outputs": [
        {
          "name": "stdout",
          "output_type": "stream",
          "text": [
            "Cloning into 'clone'...\n",
            "remote: Enumerating objects: 28, done.\u001b[K\n",
            "remote: Counting objects: 100% (28/28), done.\u001b[K\n",
            "remote: Compressing objects: 100% (28/28), done.\u001b[K\n",
            "remote: Total 28 (delta 3), reused 16 (delta 0), pack-reused 0\u001b[K\n",
            "Unpacking objects: 100% (28/28), done.\n"
          ]
        }
      ],
      "source": [
        "!rm -rf clone && git clone https://github.com/pui-sum-rv/lab1 clone && cp -a clone/. ."
      ]
    },
    {
      "cell_type": "markdown",
      "metadata": {
        "id": "XIPg8Vf9Cr8D"
      },
      "source": [
        "**Google Colab will occasionally delete all files.** Therefore, you might need to rerun this command between sessions. If you encounter errors indicating that files do not exist, try running the command again."
      ]
    },
    {
      "cell_type": "markdown",
      "metadata": {
        "id": "rRuk6Bc8PgF8"
      },
      "source": [
        "# Introduction to Python, Numpy and OpenCV\n",
        "\n",
        "In these exercises, you will familiarize yourself with the basics of Python. Refer to the **README** file in the GitHub repository for an introduction to Python, a syntax overview, and links to additional resources.\n",
        "\n",
        "## Tasks\n",
        "\n",
        "Solve the following tasks within this Jupyter Notebook, ensuring that the result of each task is displayed below the respective code cell. **Add at least one code cell for each task.**\n",
        "\n",
        "1. Write a program that loads an image and displays three separate images, one for each channel. (Hint: When displaying one channel, set the other two channels to 0)\n",
        "2. Write a program that loads an image and creates a border of 10 pixels around the image. Display the resulting image.\n",
        "3. Write a program that loads an image and creates three new images from it. The first should have half the vertical pixels (rows) of the original, the second should have half the horizontal pixels (columns), and the third should have half of both. (Hint: take every other pixel). Display all three images."
      ]
    },
    {
      "cell_type": "code",
      "execution_count": null,
      "metadata": {
        "id": "az7fSs7oOHIq"
      },
      "outputs": [],
      "source": [
        "import cv2 as cv\n",
        "import matplotlib.pyplot as plt"
      ]
    },
    {
      "cell_type": "code",
      "execution_count": null,
      "metadata": {
        "id": "m5b5VJnlXJHf"
      },
      "outputs": [],
      "source": [
        "# korisne funkcije:\n",
        "def imread_rgb(file):\n",
        "  image = cv.imread(file)\n",
        "  rgb = cv.cvtColor(image, cv.COLOR_BGR2RGB)\n",
        "  return rgb\n",
        "\n",
        "def imread_grayscale(file):\n",
        "  image = cv.imread(file, cv.IMREAD_GRAYSCALE)\n",
        "  return image\n",
        "\n",
        "def show_image(image):\n",
        "  plt.imshow(image)"
      ]
    },
    {
      "cell_type": "code",
      "execution_count": null,
      "metadata": {
        "id": "ZPPKOVP6OAxW"
      },
      "outputs": [],
      "source": []
    }
  ],
  "metadata": {
    "colab": {
      "authorship_tag": "ABX9TyPdsk5aJ45he4xMUxx8bkpd",
      "include_colab_link": true,
      "name": "lab1.ipynb",
      "provenance": []
    },
    "kernelspec": {
      "display_name": "Python 3",
      "name": "python3"
    },
    "language_info": {
      "codemirror_mode": {
        "name": "ipython",
        "version": 3
      },
      "file_extension": ".py",
      "mimetype": "text/x-python",
      "name": "python",
      "nbconvert_exporter": "python",
      "pygments_lexer": "ipython3",
      "version": "3.11.9"
    }
  },
  "nbformat": 4,
  "nbformat_minor": 0
}
